{
 "cells": [
  {
   "cell_type": "code",
   "execution_count": null,
   "source": [
    "import tensorflow as tf"
   ],
   "outputs": [],
   "metadata": {}
  },
  {
   "cell_type": "code",
   "execution_count": 2,
   "source": [
    "mnist = tf.keras.datasets.mnist"
   ],
   "outputs": [],
   "metadata": {}
  },
  {
   "cell_type": "code",
   "execution_count": 19,
   "source": [
    "(x_train, y_train), (x_test, y_test) = mnist.load_data()"
   ],
   "outputs": [],
   "metadata": {}
  },
  {
   "cell_type": "code",
   "execution_count": 14,
   "source": [
    "x_train, x_test = x_train / 255.0, x_test / 255.0"
   ],
   "outputs": [],
   "metadata": {}
  },
  {
   "cell_type": "code",
   "execution_count": 35,
   "source": [
    "one_label_train = []\r\n",
    "for index in range(len(y_train)):\r\n",
    "    # print(index)\r\n",
    "    if y_train[index] != 1:\r\n",
    "        one_label_train.append(0)\r\n",
    "    else:\r\n",
    "        one_label_train.append(.99)\r\n",
    "\r\n"
   ],
   "outputs": [],
   "metadata": {}
  },
  {
   "cell_type": "code",
   "execution_count": 40,
   "source": [
    "one_label_test = []\r\n",
    "for index in range(len(y_test)):\r\n",
    "    # print(index)\r\n",
    "    if y_test[index] != 1:\r\n",
    "        one_label_test.append(0)\r\n",
    "    else:\r\n",
    "        one_label_test.append(.99)"
   ],
   "outputs": [],
   "metadata": {}
  },
  {
   "cell_type": "code",
   "execution_count": 15,
   "source": [
    "model = tf.keras.models.Sequential([\r\n",
    "  tf.keras.layers.Flatten(input_shape=(28, 28)),\r\n",
    "  tf.keras.layers.Dense(1, activation='sigmoid')\r\n",
    "])"
   ],
   "outputs": [],
   "metadata": {}
  },
  {
   "cell_type": "code",
   "execution_count": 11,
   "source": [
    "print(model.summary())"
   ],
   "outputs": [
    {
     "output_type": "stream",
     "name": "stdout",
     "text": [
      "Model: \"sequential_2\"\n",
      "_________________________________________________________________\n",
      "Layer (type)                 Output Shape              Param #   \n",
      "=================================================================\n",
      "flatten_2 (Flatten)          (None, 784)               0         \n",
      "_________________________________________________________________\n",
      "dense_3 (Dense)              (None, 1)                 785       \n",
      "=================================================================\n",
      "Total params: 785\n",
      "Trainable params: 785\n",
      "Non-trainable params: 0\n",
      "_________________________________________________________________\n",
      "None\n"
     ]
    }
   ],
   "metadata": {}
  },
  {
   "cell_type": "code",
   "execution_count": 37,
   "source": [
    "model.compile(optimizer='adam',\r\n",
    "              loss='mean_squared_error',\r\n",
    "              metrics=['accuracy'])"
   ],
   "outputs": [],
   "metadata": {}
  },
  {
   "cell_type": "code",
   "execution_count": 39,
   "source": [
    "model.fit(x_train, one_label_train, epochs=25)"
   ],
   "outputs": [
    {
     "output_type": "stream",
     "name": "stdout",
     "text": [
      "Epoch 1/25\n",
      "60000/60000 [==============================] - 5s 76us/sample - loss: 0.0110 - acc: 0.8824\n",
      "Epoch 2/25\n",
      "60000/60000 [==============================] - 5s 86us/sample - loss: 0.0115 - acc: 0.8814\n",
      "Epoch 3/25\n",
      "60000/60000 [==============================] - 5s 77us/sample - loss: 0.0101 - acc: 0.8839\n",
      "Epoch 4/25\n",
      "60000/60000 [==============================] - 5s 77us/sample - loss: 0.0114 - acc: 0.8839\n",
      "Epoch 5/25\n",
      "60000/60000 [==============================] - 5s 80us/sample - loss: 0.0120 - acc: 0.8818\n",
      "Epoch 6/25\n",
      "60000/60000 [==============================] - 5s 76us/sample - loss: 0.0113 - acc: 0.8825\n",
      "Epoch 7/25\n",
      "60000/60000 [==============================] - 5s 76us/sample - loss: 0.0158 - acc: 0.8750\n",
      "Epoch 8/25\n",
      "60000/60000 [==============================] - 4s 74us/sample - loss: 0.0100 - acc: 0.8840\n",
      "Epoch 9/25\n",
      "60000/60000 [==============================] - 4s 69us/sample - loss: 0.0099 - acc: 0.8837\n",
      "Epoch 10/25\n",
      "60000/60000 [==============================] - 4s 70us/sample - loss: 0.0104 - acc: 0.8840\n",
      "Epoch 11/25\n",
      "60000/60000 [==============================] - 4s 70us/sample - loss: 0.0103 - acc: 0.8823\n",
      "Epoch 12/25\n",
      "60000/60000 [==============================] - 4s 72us/sample - loss: 0.0092 - acc: 0.8842\n",
      "Epoch 13/25\n",
      "60000/60000 [==============================] - 4s 68us/sample - loss: 0.0117 - acc: 0.8797\n",
      "Epoch 14/25\n",
      "60000/60000 [==============================] - 4s 66us/sample - loss: 0.0093 - acc: 0.8828\n",
      "Epoch 15/25\n",
      "60000/60000 [==============================] - 4s 66us/sample - loss: 0.0090 - acc: 0.8839\n",
      "Epoch 16/25\n",
      "60000/60000 [==============================] - 4s 64us/sample - loss: 0.0089 - acc: 0.8834\n",
      "Epoch 17/25\n",
      "60000/60000 [==============================] - 4s 66us/sample - loss: 0.0090 - acc: 0.8850\n",
      "Epoch 18/25\n",
      "60000/60000 [==============================] - 4s 68us/sample - loss: 0.0094 - acc: 0.8838\n",
      "Epoch 19/25\n",
      "60000/60000 [==============================] - 4s 71us/sample - loss: 0.0089 - acc: 0.8835\n",
      "Epoch 20/25\n",
      "60000/60000 [==============================] - 4s 70us/sample - loss: 0.0088 - acc: 0.8851\n",
      "Epoch 21/25\n",
      "60000/60000 [==============================] - 4s 67us/sample - loss: 0.0092 - acc: 0.8842\n",
      "Epoch 22/25\n",
      "60000/60000 [==============================] - 4s 65us/sample - loss: 0.0088 - acc: 0.8846\n",
      "Epoch 23/25\n",
      "60000/60000 [==============================] - 4s 70us/sample - loss: 0.0100 - acc: 0.8838\n",
      "Epoch 24/25\n",
      "60000/60000 [==============================] - 5s 75us/sample - loss: 0.0086 - acc: 0.8842\n",
      "Epoch 25/25\n",
      "60000/60000 [==============================] - 4s 68us/sample - loss: 0.0097 - acc: 0.8827\n"
     ]
    },
    {
     "output_type": "execute_result",
     "data": {
      "text/plain": [
       "<tensorflow.python.keras.callbacks.History at 0x1f3ba2d6588>"
      ]
     },
     "metadata": {},
     "execution_count": 39
    }
   ],
   "metadata": {}
  },
  {
   "cell_type": "code",
   "execution_count": 42,
   "source": [
    "model.evaluate(x_test,  one_label_test, verbose=2)"
   ],
   "outputs": [
    {
     "output_type": "stream",
     "name": "stdout",
     "text": [
      "10000/10000 - 0s - loss: 0.0058 - acc: 0.8828\n"
     ]
    },
    {
     "output_type": "execute_result",
     "data": {
      "text/plain": [
       "[0.005840429215192853, 0.8828]"
      ]
     },
     "metadata": {},
     "execution_count": 42
    }
   ],
   "metadata": {}
  }
 ],
 "metadata": {
  "orig_nbformat": 4,
  "language_info": {
   "name": "python",
   "version": "3.7.6",
   "mimetype": "text/x-python",
   "codemirror_mode": {
    "name": "ipython",
    "version": 3
   },
   "pygments_lexer": "ipython3",
   "nbconvert_exporter": "python",
   "file_extension": ".py"
  },
  "kernelspec": {
   "name": "python3",
   "display_name": "Python 3.7.6 64-bit (conda)"
  },
  "interpreter": {
   "hash": "24dce2fa578f491366c1cb7df3792f1ca19a2454f55e8daf954455cdc8c5bd3e"
  }
 },
 "nbformat": 4,
 "nbformat_minor": 2
}